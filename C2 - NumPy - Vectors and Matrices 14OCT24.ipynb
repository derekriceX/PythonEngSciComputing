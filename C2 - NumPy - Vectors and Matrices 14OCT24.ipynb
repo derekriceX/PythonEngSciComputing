{
 "cells": [
  {
   "cell_type": "markdown",
   "metadata": {},
   "source": [
    "## Basic Attributes of the ndarray Class\n",
    "\n",
    "shape: a tuple that ocntains the number of elements (lengh) for each dimension (axis) of the array\n",
    "\n",
    "size: total number elements in the array\n",
    "\n",
    "Ndim: number of dimensions (axes)\n",
    "\n",
    "nbytes: number of bytes used to store the data\n",
    "\n",
    "dtype: the data type of the elements in the array"
   ]
  },
  {
   "cell_type": "code",
   "execution_count": 2,
   "metadata": {},
   "outputs": [
    {
     "data": {
      "text/plain": [
       "3"
      ]
     },
     "execution_count": 2,
     "metadata": {},
     "output_type": "execute_result"
    }
   ],
   "source": [
    "import numpy as np \n",
    "\n",
    "data = np.array([[1,2],[3,4],[5,6]])\n",
    "\n",
    "type(data)\n",
    "\n",
    "data\n",
    "\n",
    "data.ndim\n",
    "\n",
    "data[1] #array([3, 4])\n",
    "\n",
    "data[1][0] # 3\n",
    "\n"
   ]
  },
  {
   "cell_type": "markdown",
   "metadata": {},
   "source": [
    "## Data Types\n",
    "\n",
    "int: int8, int16, int32, int64 - integers \n",
    "unit: uint8, uint16, uint32, uint64 - unsigned (non-negative integers)\n",
    "\n",
    "bool: bool - boolean (T/F)\n",
    "\n",
    "float: float16, float32, float64, float128 - floating point numbers \n",
    "\n",
    "complex: complex64, complex128, complex265 - complex valued floating point numbers "
   ]
  },
  {
   "cell_type": "code",
   "execution_count": 3,
   "metadata": {},
   "outputs": [
    {
     "name": "stdout",
     "output_type": "stream",
     "text": [
      "[1 2 3]\n",
      "[1. 2. 3.]\n",
      "[1.+0.j 2.+0.j 3.+0.j]\n"
     ]
    }
   ],
   "source": [
    "x = np.array([1,2,3], dtype=np.int8)\n",
    "print(x)\n",
    "\n",
    "y = np.array([1,2,3],dtype = np.float32)\n",
    "print(y)\n",
    "\n",
    "z = np.array([1,2,3],dtype=np.complex128)\n",
    "print(z)\n"
   ]
  },
  {
   "cell_type": "markdown",
   "metadata": {},
   "source": [
    "## Summary of NumPy functions for Generating Arrays\n",
    "\n",
    "np.array = creates and array of element given by an array like object, which, for example, can be (nested) python list, a tuple, an iterable sequence, or other ndarray instance\n",
    "\n",
    "np.zeros - an array of specified dimensions and data type that is filled with eros \n",
    "\n",
    "np.ones - creates an array with the specified dimensions and data type that is filled with ones \n",
    "\n",
    "np.diag - creates a diagonal array with specified values along the diagonal and zeros elsewhere \n",
    "\n",
    "np.arange - creates an array with evenly spaced values between the specified start, end, and increment values \n",
    "\n",
    "np.linspace - creates an array with evenly spaced values between specified start and end values using a specified number of elements \n",
    "\n",
    "np.logspace - crates an array with values tha re logarithmically spaced between the given start and end values \n",
    "\n",
    "np.meshgrid - generates coordinate matrices (and high-dimensional coordinate arrays) from on-diemnsional coordinate vectors \n",
    "\n",
    "np.fromfunction - creates an array and fills it with values specified by a given function, which is evaluated for each combination of indices for the given array size. \n",
    "\n",
    "np.fromfile\n",
    "\n",
    "np.genfromtxt,np.loadtxt - create an array for data read from a text file \n",
    "\n",
    "np.random.rand - generates an array with random numbers that are uniformly dist. between 0 and 1 other types of dist. are also available in the np.random module \n",
    "\n",
    "\n",
    "np.random.[module] - create random dist. \n",
    "\n",
    "\n",
    "\n"
   ]
  },
  {
   "cell_type": "code",
   "execution_count": 4,
   "metadata": {},
   "outputs": [
    {
     "data": {
      "text/plain": [
       "array([[1., 0., 0.],\n",
       "       [0., 1., 0.],\n",
       "       [0., 0., 1.]])"
      ]
     },
     "execution_count": 4,
     "metadata": {},
     "output_type": "execute_result"
    }
   ],
   "source": [
    "np.eye(3)"
   ]
  },
  {
   "cell_type": "code",
   "execution_count": 5,
   "metadata": {},
   "outputs": [
    {
     "data": {
      "text/plain": [
       "array([[0., 1., 0.],\n",
       "       [0., 0., 1.],\n",
       "       [0., 0., 0.]])"
      ]
     },
     "execution_count": 5,
     "metadata": {},
     "output_type": "execute_result"
    }
   ],
   "source": [
    "np.eye(3,k=1)"
   ]
  },
  {
   "cell_type": "code",
   "execution_count": 10,
   "metadata": {},
   "outputs": [
    {
     "data": {
      "text/plain": [
       "array([[1., 1., 1., 1., 1.],\n",
       "       [1., 1., 1., 1., 1.],\n",
       "       [1., 1., 1., 1., 1.],\n",
       "       [1., 1., 1., 1., 1.],\n",
       "       [1., 1., 1., 1., 1.]])"
      ]
     },
     "execution_count": 10,
     "metadata": {},
     "output_type": "execute_result"
    }
   ],
   "source": [
    "A = np.ones([5,5])\n",
    "A"
   ]
  },
  {
   "cell_type": "code",
   "execution_count": 12,
   "metadata": {},
   "outputs": [
    {
     "name": "stdout",
     "output_type": "stream",
     "text": [
      "<function <lambda> at 0x000001FF3466C040>\n"
     ]
    }
   ],
   "source": [
    "f = lambda m, n: n+10*m\n",
    "print(f)"
   ]
  },
  {
   "cell_type": "code",
   "execution_count": 17,
   "metadata": {},
   "outputs": [
    {
     "data": {
      "text/plain": [
       "array([[ 0.,  1.,  2.,  3.,  4.,  5.],\n",
       "       [10., 11., 12., 13., 14., 15.],\n",
       "       [20., 21., 22., 23., 24., 25.],\n",
       "       [30., 31., 32., 33., 34., 35.],\n",
       "       [40., 41., 42., 43., 44., 45.],\n",
       "       [50., 51., 52., 53., 54., 55.]])"
      ]
     },
     "execution_count": 17,
     "metadata": {},
     "output_type": "execute_result"
    }
   ],
   "source": [
    "A = np.fromfunction(f, (6,6),dtype=np.float64)\n",
    "A"
   ]
  },
  {
   "cell_type": "code",
   "execution_count": 34,
   "metadata": {},
   "outputs": [
    {
     "data": {
      "text/plain": [
       "array([0, 0, 0, 0, 0, 0, 1, 1, 1, 1, 1])"
      ]
     },
     "execution_count": 34,
     "metadata": {},
     "output_type": "execute_result"
    }
   ],
   "source": [
    "def heaviside(x):\n",
    "    return 1 if x > 0 else 0\n",
    "\n",
    "\n",
    "x = np.linspace(-5,5,11)\n",
    "\n",
    "heaviside = np.vectorize(heaviside)\n",
    "\n",
    "result = heaviside(x)\n",
    "\n",
    "result\n"
   ]
  },
  {
   "cell_type": "code",
   "execution_count": null,
   "metadata": {},
   "outputs": [],
   "source": []
  },
  {
   "cell_type": "code",
   "execution_count": null,
   "metadata": {},
   "outputs": [],
   "source": []
  },
  {
   "cell_type": "code",
   "execution_count": null,
   "metadata": {},
   "outputs": [],
   "source": []
  }
 ],
 "metadata": {
  "kernelspec": {
   "display_name": "base",
   "language": "python",
   "name": "python3"
  },
  "language_info": {
   "codemirror_mode": {
    "name": "ipython",
    "version": 3
   },
   "file_extension": ".py",
   "mimetype": "text/x-python",
   "name": "python",
   "nbconvert_exporter": "python",
   "pygments_lexer": "ipython3",
   "version": "3.12.4"
  }
 },
 "nbformat": 4,
 "nbformat_minor": 2
}
