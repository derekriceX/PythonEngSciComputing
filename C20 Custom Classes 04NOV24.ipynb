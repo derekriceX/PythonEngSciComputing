{
 "cells": [
  {
   "cell_type": "markdown",
   "metadata": {},
   "source": [
    "# 25 - Custom Classes"
   ]
  },
  {
   "cell_type": "markdown",
   "metadata": {},
   "source": [
    "## Everythin in Python is an object\n",
    "- has a type (class)  \n",
    "- has a state  \n",
    "- has fuctionality  \n",
    "\n",
    "for example [1,2,3,4] is an object  \n",
    "\n",
    "-> its type is list -> we say it is an instance of a list   \n",
    "\n",
    "-> its state are the elements in the list   \n",
    "\n",
    "-> functionality such as .append \n",
    "\n"
   ]
  },
  {
   "cell_type": "code",
   "execution_count": 2,
   "metadata": {},
   "outputs": [],
   "source": [
    "l1 = [1,2,3]\n",
    "l2 = ['a','b','c']"
   ]
  },
  {
   "cell_type": "code",
   "execution_count": 3,
   "metadata": {},
   "outputs": [
    {
     "name": "stdout",
     "output_type": "stream",
     "text": [
      "[1, 2, 3]\n",
      "['a', 'b', 'c']\n"
     ]
    }
   ],
   "source": [
    "print(l1)\n",
    "print(l2)"
   ]
  },
  {
   "cell_type": "code",
   "execution_count": 4,
   "metadata": {},
   "outputs": [
    {
     "name": "stdout",
     "output_type": "stream",
     "text": [
      "['a', 'b', 'c', 'd']\n"
     ]
    }
   ],
   "source": [
    "l2.append('d')\n",
    "print(l2)"
   ]
  },
  {
   "cell_type": "markdown",
   "metadata": {},
   "source": [
    "# Methods and Bindings\n",
    "\n",
    "-> why does l1.append('d) not affect l1  \n",
    "\n",
    "-> append is a function that works on a specific instance of the class  \n",
    "--> append is called a method of the list class   \n",
    "-> when we call the append method: l2.append('d)  \n",
    "--> the mehod is bound to the object l2  \n",
    "---> basically it will operate on l2  \n",
    "\n",
    "-> in general append will operate on whatever list object is specified before the dot   \n",
    "--> l1.append(10)  "
   ]
  },
  {
   "cell_type": "code",
   "execution_count": 5,
   "metadata": {},
   "outputs": [
    {
     "data": {
      "text/plain": [
       "[1, 2, 3, 10]"
      ]
     },
     "execution_count": 5,
     "metadata": {},
     "output_type": "execute_result"
    }
   ],
   "source": [
    "l1.append(10)\n",
    "l1"
   ]
  },
  {
   "cell_type": "markdown",
   "metadata": {},
   "source": [
    "# Custom Classes\n",
    "\n",
    "-> we can define our ow n custom types (classes)  \n",
    "\n",
    "-> instances of thse classes will have   \n",
    "--> type: the custom type we created  \n",
    "--> state: we can store values specific to the instance \n",
    "--> functionality: sethod that are functions bound to the instance  \n",
    "\n",
    "# Initializers \n",
    "\n",
    "-> when we create a new instance of a class  \n",
    "-> often want to create some initial state  \n",
    "---> usually by passing arguments to the 'creation' phase  \n",
    "-> this is called the initialization phase  \n",
    "\n",
    "-> creation process is started by calling the class (type)  \n",
    "\n",
    "a = tuple([1,2,3])  \n",
    "\n",
    "-> we are calling the tuple class using ()  \n",
    "\n",
    "--> passing it an argument [1,2,3]  \n",
    "\n",
    "--> the call returns a new tuple instance, initialized with the elements 1,2,3\n",
    "\n",
    "\n",
    "# every object creating follows this basic principle \n",
    "\n",
    "reader = csv.reader(f, dialect=custom_dialect)\n",
    "\n",
    "-> create an instance of the csv.reader class by calling it \n",
    "-> pass some arguments used for the initialization (file and dialect)\n",
    "\n",
    "\n",
    "d = Decimal('1.2345')\n",
    "\n",
    "-> create an instance of the Decimal class by calling it  \n",
    "-> pass some arguments used for initialization (number string)  \n",
    "-> call returns an initialized new instance of Decimal  \n",
    "\n",
    "# classes as blueprints \n",
    "\n",
    "-> classes are often referred to as blueprints for creating objects \n",
    "--> a single class can be used to create many instances of that class  \n",
    "--> each instance will have its own state  \n",
    "--> the functions defined in the class become methods bound to the instance because these functions are bound to the instance  \n",
    "---> they can access the state of the instance\n",
    "\n",
    "\n",
    "\n",
    "## suppose we have a Person class defined \n",
    "\n",
    "-> we wrtoe our class so that the initializer requires first and lst names \n",
    "john = Person('John','cleese')\n",
    "eric = Person('Eric','Idle)\n",
    "\n",
    "-> we implemented a greet() method to say hello\n",
    "john.greet() -> 'John says hi'\n",
    "eric.greet() -> 'Eric says hi'"
   ]
  },
  {
   "cell_type": "markdown",
   "metadata": {},
   "source": [
    "# Creating Custom Classes in Python\n",
    "\n",
    "-> use the Class keyword  \n",
    "\n",
    "class Person:  \n",
    "    '''A simple Person class'''  \n",
    "\n",
    "-> code above is as simple as class can be  "
   ]
  },
  {
   "cell_type": "code",
   "execution_count": 7,
   "metadata": {},
   "outputs": [],
   "source": [
    "class Person:\n",
    "    ''' a simple Person class'''\n",
    "\n",
    "p = Person()"
   ]
  },
  {
   "cell_type": "markdown",
   "metadata": {},
   "source": [
    "-> but Python \"injects\" a lot of functionality into that class for us\n",
    "\n",
    "-> it is callable p = Persion()\n",
    "--> this created a new instance of Person\n",
    "\n",
    "-> Person and p have some state Python defined for us"
   ]
  },
  {
   "cell_type": "code",
   "execution_count": null,
   "metadata": {},
   "outputs": [
    {
     "data": {
      "text/plain": [
       "__main__.Person"
      ]
     },
     "execution_count": 13,
     "metadata": {},
     "output_type": "execute_result"
    }
   ],
   "source": [
    "Person.__doc__ # Person.__doc__\n",
    "\n",
    "Person.__name__ # 'Person'\n",
    "\n",
    "type(p) # __main__.Person\n",
    "\n"
   ]
  },
  {
   "cell_type": "code",
   "execution_count": null,
   "metadata": {},
   "outputs": [],
   "source": []
  },
  {
   "cell_type": "code",
   "execution_count": null,
   "metadata": {},
   "outputs": [],
   "source": []
  },
  {
   "cell_type": "code",
   "execution_count": null,
   "metadata": {},
   "outputs": [],
   "source": []
  },
  {
   "cell_type": "code",
   "execution_count": null,
   "metadata": {},
   "outputs": [],
   "source": []
  },
  {
   "cell_type": "code",
   "execution_count": null,
   "metadata": {},
   "outputs": [],
   "source": []
  },
  {
   "cell_type": "code",
   "execution_count": null,
   "metadata": {},
   "outputs": [],
   "source": []
  },
  {
   "cell_type": "code",
   "execution_count": null,
   "metadata": {},
   "outputs": [],
   "source": []
  },
  {
   "cell_type": "code",
   "execution_count": null,
   "metadata": {},
   "outputs": [],
   "source": []
  },
  {
   "cell_type": "code",
   "execution_count": null,
   "metadata": {},
   "outputs": [],
   "source": []
  },
  {
   "cell_type": "code",
   "execution_count": null,
   "metadata": {},
   "outputs": [],
   "source": []
  },
  {
   "cell_type": "code",
   "execution_count": null,
   "metadata": {},
   "outputs": [],
   "source": []
  },
  {
   "cell_type": "code",
   "execution_count": null,
   "metadata": {},
   "outputs": [],
   "source": []
  },
  {
   "cell_type": "code",
   "execution_count": null,
   "metadata": {},
   "outputs": [],
   "source": []
  },
  {
   "cell_type": "code",
   "execution_count": null,
   "metadata": {},
   "outputs": [],
   "source": []
  },
  {
   "cell_type": "code",
   "execution_count": null,
   "metadata": {},
   "outputs": [],
   "source": []
  },
  {
   "cell_type": "code",
   "execution_count": null,
   "metadata": {},
   "outputs": [],
   "source": []
  }
 ],
 "metadata": {
  "kernelspec": {
   "display_name": "base",
   "language": "python",
   "name": "python3"
  },
  "language_info": {
   "codemirror_mode": {
    "name": "ipython",
    "version": 3
   },
   "file_extension": ".py",
   "mimetype": "text/x-python",
   "name": "python",
   "nbconvert_exporter": "python",
   "pygments_lexer": "ipython3",
   "version": "3.12.4"
  }
 },
 "nbformat": 4,
 "nbformat_minor": 2
}
