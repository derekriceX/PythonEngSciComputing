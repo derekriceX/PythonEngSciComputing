{
 "cells": [
  {
   "cell_type": "markdown",
   "metadata": {},
   "source": [
    "# 25 - Custom Classes"
   ]
  },
  {
   "cell_type": "markdown",
   "metadata": {},
   "source": [
    "## Everythin in Python is an object\n",
    "- has a type (class)  \n",
    "- has a state  \n",
    "- has fuctionality  \n",
    "\n",
    "for example [1,2,3,4] is an object  \n",
    "\n",
    "-> its type is list -> we say it is an instance of a list   \n",
    "\n",
    "-> its state are the elements in the list   \n",
    "\n",
    "-> functionality such as .append \n",
    "\n"
   ]
  },
  {
   "cell_type": "code",
   "execution_count": 112,
   "metadata": {},
   "outputs": [],
   "source": [
    "l1 = [1,2,3]\n",
    "l2 = ['a','b','c']"
   ]
  },
  {
   "cell_type": "code",
   "execution_count": 113,
   "metadata": {},
   "outputs": [
    {
     "name": "stdout",
     "output_type": "stream",
     "text": [
      "[1, 2, 3]\n",
      "['a', 'b', 'c']\n"
     ]
    }
   ],
   "source": [
    "print(l1)\n",
    "print(l2)"
   ]
  },
  {
   "cell_type": "code",
   "execution_count": 114,
   "metadata": {},
   "outputs": [
    {
     "name": "stdout",
     "output_type": "stream",
     "text": [
      "['a', 'b', 'c', 'd']\n"
     ]
    }
   ],
   "source": [
    "l2.append('d')\n",
    "print(l2)"
   ]
  },
  {
   "cell_type": "markdown",
   "metadata": {},
   "source": [
    "# Methods and Bindings\n",
    "\n",
    "-> why does l1.append('d) not affect l1  \n",
    "\n",
    "-> append is a function that works on a specific instance of the class  \n",
    "--> append is called a method of the list class   \n",
    "-> when we call the append method: l2.append('d)  \n",
    "--> the mehod is bound to the object l2  \n",
    "---> basically it will operate on l2  \n",
    "\n",
    "-> in general append will operate on whatever list object is specified before the dot   \n",
    "--> l1.append(10)  "
   ]
  },
  {
   "cell_type": "code",
   "execution_count": 115,
   "metadata": {},
   "outputs": [
    {
     "data": {
      "text/plain": [
       "[1, 2, 3, 10]"
      ]
     },
     "execution_count": 115,
     "metadata": {},
     "output_type": "execute_result"
    }
   ],
   "source": [
    "l1.append(10)\n",
    "l1"
   ]
  },
  {
   "cell_type": "markdown",
   "metadata": {},
   "source": [
    "# Custom Classes\n",
    "\n",
    "-> we can define our ow n custom types (classes)  \n",
    "\n",
    "-> instances of thse classes will have   \n",
    "--> type: the custom type we created  \n",
    "--> state: we can store values specific to the instance \n",
    "--> functionality: sethod that are functions bound to the instance  \n",
    "\n",
    "# Initializers \n",
    "\n",
    "-> when we create a new instance of a class  \n",
    "-> often want to create some initial state  \n",
    "---> usually by passing arguments to the 'creation' phase  \n",
    "-> this is called the initialization phase  \n",
    "\n",
    "-> creation process is started by calling the class (type)  \n",
    "\n",
    "a = tuple([1,2,3])  \n",
    "\n",
    "-> we are calling the tuple class using ()  \n",
    "\n",
    "--> passing it an argument [1,2,3]  \n",
    "\n",
    "--> the call returns a new tuple instance, initialized with the elements 1,2,3\n",
    "\n",
    "\n",
    "# every object creating follows this basic principle \n",
    "\n",
    "reader = csv.reader(f, dialect=custom_dialect)\n",
    "\n",
    "-> create an instance of the csv.reader class by calling it \n",
    "-> pass some arguments used for the initialization (file and dialect)\n",
    "\n",
    "\n",
    "d = Decimal('1.2345')\n",
    "\n",
    "-> create an instance of the Decimal class by calling it  \n",
    "-> pass some arguments used for initialization (number string)  \n",
    "-> call returns an initialized new instance of Decimal  \n",
    "\n",
    "# classes as blueprints \n",
    "\n",
    "-> classes are often referred to as blueprints for creating objects \n",
    "--> a single class can be used to create many instances of that class  \n",
    "--> each instance will have its own state  \n",
    "--> the functions defined in the class become methods bound to the instance because these functions are bound to the instance  \n",
    "---> they can access the state of the instance\n",
    "\n",
    "\n",
    "\n",
    "## suppose we have a Person class defined \n",
    "\n",
    "-> we wrtoe our class so that the initializer requires first and lst names \n",
    "john = Person('John','cleese')\n",
    "eric = Person('Eric','Idle)\n",
    "\n",
    "-> we implemented a greet() method to say hello\n",
    "john.greet() -> 'John says hi'\n",
    "eric.greet() -> 'Eric says hi'"
   ]
  },
  {
   "cell_type": "markdown",
   "metadata": {},
   "source": [
    "# Creating Custom Classes in Python\n",
    "\n",
    "-> use the Class keyword  \n",
    "\n",
    "class Person:  \n",
    "    '''A simple Person class'''  \n",
    "\n",
    "-> code above is as simple as class can be  "
   ]
  },
  {
   "cell_type": "code",
   "execution_count": 116,
   "metadata": {},
   "outputs": [],
   "source": [
    "class Person:\n",
    "    ''' a simple Person class'''\n",
    "\n",
    "p = Person()"
   ]
  },
  {
   "cell_type": "markdown",
   "metadata": {},
   "source": [
    "-> but Python \"injects\" a lot of functionality into that class for us\n",
    "\n",
    "-> it is callable p = Persion()\n",
    "--> this created a new instance of Person\n",
    "\n",
    "-> Person and p have some state Python defined for us"
   ]
  },
  {
   "cell_type": "code",
   "execution_count": 117,
   "metadata": {},
   "outputs": [
    {
     "data": {
      "text/plain": [
       "__main__.Person"
      ]
     },
     "execution_count": 117,
     "metadata": {},
     "output_type": "execute_result"
    }
   ],
   "source": [
    "Person.__doc__ # Person.__doc__\n",
    "\n",
    "Person.__name__ # 'Person'\n",
    "\n",
    "type(p) # __main__.Person\n",
    "\n"
   ]
  },
  {
   "cell_type": "markdown",
   "metadata": {},
   "source": [
    "# 207 - Defining Classes - Lecture\n",
    "\n",
    "-> classes are like templates for creating objects \n",
    "--> objects have state and functionality  \n",
    "--> we can define what the state and functionality is using a class  \n",
    "\n",
    "-> class: circle\\\n",
    "--> state: radius\\\n",
    "--> functionality: area(), perimenter()\n",
    "\n",
    "\n",
    "Two unique circles - two objects - each has a unique radius \n",
    "\n",
    "Circle_1 (radius = 1)\\\n",
    "Circle_2 (radius = 2)\n",
    "\n",
    "but formula to calc. area and peri are common \n",
    "\n",
    "it just needs access to the instance value for radious\n",
    "\n"
   ]
  },
  {
   "cell_type": "code",
   "execution_count": 118,
   "metadata": {},
   "outputs": [],
   "source": [
    "# to define a class we use the class keyword\n",
    "\n",
    "class Circle: \n",
    "    \"\"\"This class can be used to rep. a circle and calculate area and perimeter\"\"\"\n",
    "\n",
    "\n",
    "# -> one (option) part of the definition of a calss is a docstring \n",
    "# --> basically documentation of the class \n",
    "\n",
    "# -> class above does not do much \n",
    "# --> but it still has quite a bot of functionality built in for us by Python \n"
   ]
  },
  {
   "cell_type": "markdown",
   "metadata": {},
   "source": [
    "Python functionality\n",
    "\n",
    "Circle.__name__ -> 'Circle'\n",
    "\n",
    "Circle.__doc__ -> 'above text desc'\n",
    "\n",
    "Circle.__class__ -> Circle\n",
    "    Circle.__class__ is Circle -> True \n",
    "\n",
    "-> Python also makes the class callable "
   ]
  },
  {
   "cell_type": "code",
   "execution_count": 119,
   "metadata": {},
   "outputs": [],
   "source": [
    "# Circle can be called to create new instances of that class \n",
    "\n",
    "c1 = Circle()\n",
    "c2 = Circle() # two different instances of Circle  "
   ]
  },
  {
   "cell_type": "code",
   "execution_count": 120,
   "metadata": {},
   "outputs": [
    {
     "data": {
      "text/plain": [
       "True"
      ]
     },
     "execution_count": 120,
     "metadata": {},
     "output_type": "execute_result"
    }
   ],
   "source": [
    "isinstance(c1,Circle) # True"
   ]
  },
  {
   "cell_type": "code",
   "execution_count": 121,
   "metadata": {},
   "outputs": [],
   "source": [
    "c1 = Circle() # instances of the Circle class \n",
    "c1.radius = 10 # defines radius inside instances c1 of the class circle\n",
    "c2.radius = 20 # call 'dot' notation "
   ]
  },
  {
   "cell_type": "code",
   "execution_count": 122,
   "metadata": {},
   "outputs": [
    {
     "name": "stdout",
     "output_type": "stream",
     "text": [
      "10\n",
      "20\n"
     ]
    }
   ],
   "source": [
    "print(c1.radius) #10\n",
    "print(c2.radius) #20"
   ]
  },
  {
   "cell_type": "markdown",
   "metadata": {},
   "source": [
    "-> we create instances of a class by calling the class \n",
    "\n",
    "-> we can set/get attributes directly on the instances using dot notation \n",
    "\n",
    "--> to create and initialize a Circle instance \n",
    "\n",
    "c1 = Circle()\n",
    "c1.radius = 10 \n",
    "\n",
    "--> these attributes exist in the instance namespace -> normally a dictionary \n",
    "\n",
    "c1.__dict__ -> {'radius':10}\\\n",
    "---> somethimes the state is not in that dictionary\\\n",
    "--> but not in this course\\"
   ]
  },
  {
   "cell_type": "code",
   "execution_count": 123,
   "metadata": {},
   "outputs": [
    {
     "data": {
      "text/plain": [
       "{'radius': 10}"
      ]
     },
     "execution_count": 123,
     "metadata": {},
     "output_type": "execute_result"
    }
   ],
   "source": [
    "c1.__dict__"
   ]
  },
  {
   "cell_type": "markdown",
   "metadata": {},
   "source": [
    "# 208 coding - defining classes "
   ]
  },
  {
   "cell_type": "code",
   "execution_count": 124,
   "metadata": {},
   "outputs": [],
   "source": [
    "class Person:\n",
    "    \"\"\"This string can be used to document this class\n",
    "    called a docstring\n",
    "    \"\"\"\n"
   ]
  },
  {
   "cell_type": "code",
   "execution_count": 125,
   "metadata": {},
   "outputs": [],
   "source": [
    "p1 = Person()"
   ]
  },
  {
   "cell_type": "code",
   "execution_count": 126,
   "metadata": {},
   "outputs": [
    {
     "data": {
      "text/plain": [
       "<__main__.Person at 0x20087ea7d40>"
      ]
     },
     "execution_count": 126,
     "metadata": {},
     "output_type": "execute_result"
    }
   ],
   "source": [
    "p1 # instances with memory address "
   ]
  },
  {
   "cell_type": "code",
   "execution_count": 127,
   "metadata": {},
   "outputs": [
    {
     "data": {
      "text/plain": [
       "'This string can be used to document this class\\n    called a docstring\\n    '"
      ]
     },
     "execution_count": 127,
     "metadata": {},
     "output_type": "execute_result"
    }
   ],
   "source": [
    "Person.__doc__"
   ]
  },
  {
   "cell_type": "code",
   "execution_count": 128,
   "metadata": {},
   "outputs": [
    {
     "name": "stdout",
     "output_type": "stream",
     "text": [
      "Help on class Person in module __main__:\n",
      "\n",
      "class Person(builtins.object)\n",
      " |  This string can be used to document this class\n",
      " |  called a docstring\n",
      " |\n",
      " |  Data descriptors defined here:\n",
      " |\n",
      " |  __dict__\n",
      " |      dictionary for instance variables\n",
      " |\n",
      " |  __weakref__\n",
      " |      list of weak references to the object\n",
      "\n"
     ]
    }
   ],
   "source": [
    "help(Person)"
   ]
  },
  {
   "cell_type": "code",
   "execution_count": 129,
   "metadata": {},
   "outputs": [
    {
     "data": {
      "text/plain": [
       "'Person'"
      ]
     },
     "execution_count": 129,
     "metadata": {},
     "output_type": "execute_result"
    }
   ],
   "source": [
    "Person.__name__ # string that is the name of the class "
   ]
  },
  {
   "cell_type": "code",
   "execution_count": 130,
   "metadata": {},
   "outputs": [
    {
     "data": {
      "text/plain": [
       "__main__.Person"
      ]
     },
     "execution_count": 130,
     "metadata": {},
     "output_type": "execute_result"
    }
   ],
   "source": [
    "p1.__class__"
   ]
  },
  {
   "cell_type": "code",
   "execution_count": 131,
   "metadata": {},
   "outputs": [
    {
     "data": {
      "text/plain": [
       "__main__.Person"
      ]
     },
     "execution_count": 131,
     "metadata": {},
     "output_type": "execute_result"
    }
   ],
   "source": [
    "type(p1) "
   ]
  },
  {
   "cell_type": "code",
   "execution_count": 132,
   "metadata": {},
   "outputs": [
    {
     "data": {
      "text/plain": [
       "True"
      ]
     },
     "execution_count": 132,
     "metadata": {},
     "output_type": "execute_result"
    }
   ],
   "source": [
    "type([1,2,3]) is list #because ([ ....]) brackes is a tuple list "
   ]
  },
  {
   "cell_type": "code",
   "execution_count": 133,
   "metadata": {},
   "outputs": [
    {
     "data": {
      "text/plain": [
       "True"
      ]
     },
     "execution_count": 133,
     "metadata": {},
     "output_type": "execute_result"
    }
   ],
   "source": [
    "type(p1) is Person # True because p1 is an instance of the class Person "
   ]
  },
  {
   "cell_type": "code",
   "execution_count": 134,
   "metadata": {},
   "outputs": [
    {
     "data": {
      "text/plain": [
       "True"
      ]
     },
     "execution_count": 134,
     "metadata": {},
     "output_type": "execute_result"
    }
   ],
   "source": [
    "isinstance(p1,Person) # True "
   ]
  },
  {
   "cell_type": "markdown",
   "metadata": {},
   "source": [
    "so now we can assign 'state'"
   ]
  },
  {
   "cell_type": "code",
   "execution_count": 135,
   "metadata": {},
   "outputs": [],
   "source": [
    "p1.name = 'John'\n"
   ]
  },
  {
   "cell_type": "code",
   "execution_count": 136,
   "metadata": {},
   "outputs": [
    {
     "data": {
      "text/plain": [
       "'John'"
      ]
     },
     "execution_count": 136,
     "metadata": {},
     "output_type": "execute_result"
    }
   ],
   "source": [
    "p1.name #'John'"
   ]
  },
  {
   "cell_type": "code",
   "execution_count": 137,
   "metadata": {},
   "outputs": [
    {
     "data": {
      "text/plain": [
       "{'name': 'John'}"
      ]
     },
     "execution_count": 137,
     "metadata": {},
     "output_type": "execute_result"
    }
   ],
   "source": [
    "p1.__dict__ # property in dictionary "
   ]
  },
  {
   "cell_type": "code",
   "execution_count": 138,
   "metadata": {},
   "outputs": [],
   "source": [
    "p2 = Person()"
   ]
  },
  {
   "cell_type": "code",
   "execution_count": 139,
   "metadata": {},
   "outputs": [
    {
     "data": {
      "text/plain": [
       "{'name': 'John', 'first_name': 'John', 'last_name': 'Cleese'}"
      ]
     },
     "execution_count": 139,
     "metadata": {},
     "output_type": "execute_result"
    }
   ],
   "source": [
    "p1.first_name = 'John'\n",
    "p1.last_name = 'Cleese'\n",
    "\n",
    "p1.__dict__ # {'name': 'John', 'first_name': 'John', 'last_name': 'Cleese'}"
   ]
  },
  {
   "cell_type": "markdown",
   "metadata": {},
   "source": [
    "# 209 Initialization "
   ]
  },
  {
   "cell_type": "code",
   "execution_count": 140,
   "metadata": {},
   "outputs": [],
   "source": [
    "class Person:\n",
    "    '''Class to rep. a person'''"
   ]
  },
  {
   "cell_type": "code",
   "execution_count": 141,
   "metadata": {},
   "outputs": [
    {
     "data": {
      "text/plain": [
       "(<__main__.Person at 0x2008899c260>, __main__.Person)"
      ]
     },
     "execution_count": 141,
     "metadata": {},
     "output_type": "execute_result"
    }
   ],
   "source": [
    "p1 = Person()\n",
    "p1, type(p1) # memory address and type __main__.Person"
   ]
  },
  {
   "cell_type": "code",
   "execution_count": 142,
   "metadata": {},
   "outputs": [
    {
     "data": {
      "text/plain": [
       "'0x2008899c260'"
      ]
     },
     "execution_count": 142,
     "metadata": {},
     "output_type": "execute_result"
    }
   ],
   "source": [
    "hex(id(p1))"
   ]
  },
  {
   "cell_type": "code",
   "execution_count": 143,
   "metadata": {},
   "outputs": [],
   "source": [
    "class Person:\n",
    "    def __init__(self):\n",
    "        print('custom init.custom class person..', self)"
   ]
  },
  {
   "cell_type": "code",
   "execution_count": 144,
   "metadata": {},
   "outputs": [
    {
     "name": "stdout",
     "output_type": "stream",
     "text": [
      "custom init.custom class person.. <__main__.Person object at 0x0000020087EA42F0>\n"
     ]
    }
   ],
   "source": [
    "p = Person()\n",
    "p1.first_name = 'Eric'\n",
    "p1.last_name = 'Eidle'"
   ]
  },
  {
   "cell_type": "code",
   "execution_count": 145,
   "metadata": {},
   "outputs": [
    {
     "name": "stdout",
     "output_type": "stream",
     "text": [
      "{'first_name': 'Eric', 'last_name': 'Eidle'}\n"
     ]
    }
   ],
   "source": [
    "print(p1.__dict__)"
   ]
  },
  {
   "cell_type": "code",
   "execution_count": 146,
   "metadata": {},
   "outputs": [],
   "source": [
    "class Person:\n",
    "    def __init__(self):\n",
    "        self.first_name = 'Eric'\n",
    "        self.last_name = 'Idle'"
   ]
  },
  {
   "cell_type": "code",
   "execution_count": 147,
   "metadata": {},
   "outputs": [],
   "source": [
    "p1 = Person()"
   ]
  },
  {
   "cell_type": "code",
   "execution_count": 148,
   "metadata": {},
   "outputs": [
    {
     "data": {
      "text/plain": [
       "{'first_name': 'Eric', 'last_name': 'Idle'}"
      ]
     },
     "execution_count": 148,
     "metadata": {},
     "output_type": "execute_result"
    }
   ],
   "source": [
    "p1.__dict__"
   ]
  },
  {
   "cell_type": "code",
   "execution_count": 149,
   "metadata": {},
   "outputs": [
    {
     "data": {
      "text/plain": [
       "'Eric'"
      ]
     },
     "execution_count": 149,
     "metadata": {},
     "output_type": "execute_result"
    }
   ],
   "source": [
    "p1.first_name"
   ]
  },
  {
   "cell_type": "code",
   "execution_count": 150,
   "metadata": {},
   "outputs": [],
   "source": [
    "class Person:\n",
    "    def __init__(self,first_name,last_name):\n",
    "        self.first_name = first_name\n",
    "        self.last_name = last_name"
   ]
  },
  {
   "cell_type": "code",
   "execution_count": 151,
   "metadata": {},
   "outputs": [
    {
     "ename": "TypeError",
     "evalue": "Person.__init__() missing 2 required positional arguments: 'first_name' and 'last_name'",
     "output_type": "error",
     "traceback": [
      "\u001b[1;31m---------------------------------------------------------------------------\u001b[0m",
      "\u001b[1;31mTypeError\u001b[0m                                 Traceback (most recent call last)",
      "Cell \u001b[1;32mIn[151], line 1\u001b[0m\n\u001b[1;32m----> 1\u001b[0m p1 \u001b[38;5;241m=\u001b[39m Person()\n",
      "\u001b[1;31mTypeError\u001b[0m: Person.__init__() missing 2 required positional arguments: 'first_name' and 'last_name'"
     ]
    }
   ],
   "source": [
    "p1 = Person()"
   ]
  },
  {
   "cell_type": "code",
   "execution_count": null,
   "metadata": {},
   "outputs": [],
   "source": [
    "p1 = Person('Derek', 'Rice')"
   ]
  },
  {
   "cell_type": "code",
   "execution_count": null,
   "metadata": {},
   "outputs": [
    {
     "name": "stdout",
     "output_type": "stream",
     "text": [
      "<__main__.Person object at 0x0000020087B802C0> {'first_name': 'Derek', 'last_name': 'Rice'}\n"
     ]
    }
   ],
   "source": [
    "print(p1,p1.__dict__)"
   ]
  },
  {
   "cell_type": "code",
   "execution_count": null,
   "metadata": {},
   "outputs": [],
   "source": [
    "p2 = Person('John','Cleese')"
   ]
  },
  {
   "cell_type": "code",
   "execution_count": null,
   "metadata": {},
   "outputs": [
    {
     "data": {
      "text/plain": [
       "{'first_name': 'John', 'last_name': 'Cleese'}"
      ]
     },
     "execution_count": 56,
     "metadata": {},
     "output_type": "execute_result"
    }
   ],
   "source": [
    "p2.__dict__"
   ]
  },
  {
   "cell_type": "code",
   "execution_count": null,
   "metadata": {},
   "outputs": [],
   "source": [
    "class Point:\n",
    "    '''can take n points in n dimensional space'''\n",
    "    def __init__(self,*coords):\n",
    "        self.coordinates = coords\n",
    "        print(f'dimension:{len(coords)}')"
   ]
  },
  {
   "cell_type": "code",
   "execution_count": null,
   "metadata": {},
   "outputs": [
    {
     "name": "stdout",
     "output_type": "stream",
     "text": [
      "dimension:2\n"
     ]
    }
   ],
   "source": [
    "p = Point(1,2)\n"
   ]
  },
  {
   "cell_type": "code",
   "execution_count": null,
   "metadata": {},
   "outputs": [
    {
     "data": {
      "text/plain": [
       "{'coordinates': (1, 2)}"
      ]
     },
     "execution_count": 110,
     "metadata": {},
     "output_type": "execute_result"
    }
   ],
   "source": [
    "p.__dict__"
   ]
  },
  {
   "cell_type": "code",
   "execution_count": null,
   "metadata": {},
   "outputs": [
    {
     "data": {
      "text/plain": [
       "(1, 2)"
      ]
     },
     "execution_count": 111,
     "metadata": {},
     "output_type": "execute_result"
    }
   ],
   "source": [
    "p.coordinates"
   ]
  },
  {
   "cell_type": "code",
   "execution_count": 152,
   "metadata": {},
   "outputs": [
    {
     "name": "stdout",
     "output_type": "stream",
     "text": [
      "dimension:5\n"
     ]
    }
   ],
   "source": [
    "p2 = Point(1,2,3,4,5)"
   ]
  },
  {
   "cell_type": "code",
   "execution_count": 153,
   "metadata": {},
   "outputs": [
    {
     "data": {
      "text/plain": [
       "(1, 2, 3, 4, 5)"
      ]
     },
     "execution_count": 153,
     "metadata": {},
     "output_type": "execute_result"
    }
   ],
   "source": [
    "p2.coordinates"
   ]
  },
  {
   "cell_type": "code",
   "execution_count": 159,
   "metadata": {},
   "outputs": [],
   "source": [
    "class Circle:\n",
    "    def __init__(self,*,radius=1): # 1 is default \n",
    "        self.radius=radius\n",
    "        self.perimeter = 2*3.14*radius\n",
    "        self.area = 3.14*radius**2\n",
    "        print(f'radius: {self.radius}, perimeter:{self.perimeter:.3f}, area: {self.area}')"
   ]
  },
  {
   "cell_type": "code",
   "execution_count": 160,
   "metadata": {},
   "outputs": [
    {
     "name": "stdout",
     "output_type": "stream",
     "text": [
      "radius: 5, perimeter:31.400, area: 78.5\n"
     ]
    }
   ],
   "source": [
    "c1 = Circle(radius = 5)"
   ]
  },
  {
   "cell_type": "code",
   "execution_count": 161,
   "metadata": {},
   "outputs": [
    {
     "data": {
      "text/plain": [
       "{'radius': 5, 'perimeter': 31.400000000000002, 'area': 78.5}"
      ]
     },
     "execution_count": 161,
     "metadata": {},
     "output_type": "execute_result"
    }
   ],
   "source": [
    "c1.__dict__"
   ]
  },
  {
   "cell_type": "code",
   "execution_count": 162,
   "metadata": {},
   "outputs": [
    {
     "name": "stdout",
     "output_type": "stream",
     "text": [
      "radius: 23, perimeter:144.440, area: 1661.0600000000002\n"
     ]
    }
   ],
   "source": [
    "c2 = Circle(radius = 23)"
   ]
  },
  {
   "cell_type": "code",
   "execution_count": 163,
   "metadata": {},
   "outputs": [
    {
     "data": {
      "text/plain": [
       "{'radius': 23, 'perimeter': 144.44, 'area': 1661.0600000000002}"
      ]
     },
     "execution_count": 163,
     "metadata": {},
     "output_type": "execute_result"
    }
   ],
   "source": [
    "c2.__dict__"
   ]
  },
  {
   "cell_type": "code",
   "execution_count": null,
   "metadata": {},
   "outputs": [],
   "source": []
  }
 ],
 "metadata": {
  "kernelspec": {
   "display_name": "base",
   "language": "python",
   "name": "python3"
  },
  "language_info": {
   "codemirror_mode": {
    "name": "ipython",
    "version": 3
   },
   "file_extension": ".py",
   "mimetype": "text/x-python",
   "name": "python",
   "nbconvert_exporter": "python",
   "pygments_lexer": "ipython3",
   "version": "3.12.4"
  }
 },
 "nbformat": 4,
 "nbformat_minor": 2
}
